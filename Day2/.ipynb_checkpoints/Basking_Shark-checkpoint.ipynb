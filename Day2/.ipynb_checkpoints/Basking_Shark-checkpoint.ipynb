{
 "cells": [
  {
   "cell_type": "markdown",
   "metadata": {},
   "source": [
    "Basking Sharks\n",
    "\n",
    "Specific food locations.\n",
    "Eat food. \n",
    "Change Behaviour depending on food avaliability. \n",
    "\n",
    "Use distribution to alter direction of shark given food, more food = more turning.\n",
    "numpy normal random (mean, std, number)"
   ]
  },
  {
   "cell_type": "code",
   "execution_count": 2,
   "metadata": {
    "collapsed": true
   },
   "outputs": [],
   "source": [
    "# import modules\n",
    "import numpy\n",
    "from random import randint\n",
    "import matplotlib.pyplot as plt\n",
    "from matplotlib.widgets import Slider, Button, RadioButtons\n",
    "%matplotlib inline"
   ]
  },
  {
   "cell_type": "code",
   "execution_count": 22,
   "metadata": {
    "collapsed": true
   },
   "outputs": [],
   "source": [
    "# define function to control heading\n",
    "def heading(head, var):\n",
    "    change_direction = randint(0,8) # creates a variable with value -1, 0, or 1\n",
    "    head = head + change_direction # altering the heading based on the random number\n",
    "    \n",
    "    ### this next section of code is 'error checking' I need 'heading' to stay between 1 and 8 (one of the 8 possible directions including diagonal)\n",
    "    # this value between 1 and 8 is vital in the next bit of code - so I make sure it will always be in this range here\n",
    "    if head > 8:\n",
    "        head = head - 8\n",
    "    if head < 1:\n",
    "        head = head + 8\n",
    "    ## end of the error checking - I now have a direction - up, down, left, right and the diagonals. \n",
    "    \n",
    "    if head == 1: # note double equals sign - this is the test for equality. Single equals means assignment (x = x+1 is assignment, x == x+1 is incorrect)\n",
    "        ypos = ypos + 1 # move upwards\n",
    "    if head == 2:\n",
    "        xpos = xpos+1\n",
    "        ypos = ypos+1 # up and right\n",
    "    if heading == 3:\n",
    "        xpos = xpos+1 # right\n",
    "    if heading == 4:\n",
    "        xpos = xpos + 1\n",
    "        ypos = ypos -1\n",
    "    if heading == 5:\n",
    "        ypos = ypos - 1\n",
    "    if heading == 6:\n",
    "        ypos = ypos - 1\n",
    "        xpos = xpos -1\n",
    "    if heading == 7:\n",
    "        xpos = xpos - 1\n",
    "    if heading == 8:\n",
    "        xpos = xpos-1\n",
    "        ypos = ypos+1"
   ]
  },
  {
   "cell_type": "code",
   "execution_count": 64,
   "metadata": {
    "collapsed": false
   },
   "outputs": [],
   "source": [
    "# define sea size and array\n",
    "sea_size = 500\n",
    "sea = numpy.zeros((sea_size,sea_size))\n",
    "\n",
    "# sets Y:Y, X:X range where there is food and amount\n",
    "sea[350:400, 350:400]=2\n",
    "sea[100:150, 100:150]=2\n",
    "\n",
    "# set number of Sharks\n",
    "sharks = 1\n",
    "\n",
    "# set start positions \n",
    "xpos = [250]*sharks\n",
    "ypos = [250]*sharks\n",
    "\n",
    "# variable to hold count how much they eat\n",
    "sharks_food = [0]*sharks\n",
    "\n",
    "# initial heading\n",
    "heading = [randint(0,8)]*sharks\n",
    "\n",
    "# std\n",
    "std = 1\n",
    "\n",
    "#plt.imshow(sea)"
   ]
  },
  {
   "cell_type": "code",
   "execution_count": 66,
   "metadata": {
    "collapsed": false
   },
   "outputs": [
    {
     "data": {
      "image/png": "[encoded data removed]",
      "text/plain": [
       "<matplotlib.figure.Figure at 0xc7c71d0>"
      ]
     },
     "metadata": {},
     "output_type": "display_data"
    }
   ],
   "source": [
    "for tstep in range(800):\n",
    "    for shark in range(sharks):\n",
    "        \n",
    "        # NO FOOD, expend less energy\n",
    "        if sea[xpos[shark],ypos[shark]] == 0:\n",
    "            sharks_food[shark] - 1 # energy loss\n",
    "            change_direction = int(numpy.random.normal(1, std)) # creates a variable with value -1, 0, or 1\n",
    "            heading[shark] = heading[shark] + change_direction # altering the heading based on the random number\n",
    "            \n",
    "            if heading[shark] == 1: # note double equals sign - this is the test for equality. Single equals means assignment (x = x+1 is assignment, x == x+1 is incorrect)\n",
    "                ypos[shark] = ypos[shark] + 1 # move upwards\n",
    "            if heading[shark] == 2:\n",
    "                xpos[shark] = xpos[shark]+1\n",
    "                ypos[shark] = ypos[shark]+1 # up and right\n",
    "            if heading[shark] == 3:\n",
    "                xpos[shark] = xpos[shark]+1 # right\n",
    "            if heading[shark] == 4:\n",
    "                xpos[shark] = xpos[shark] + 1\n",
    "                ypos[shark] = ypos[shark] -1\n",
    "            if heading[shark] == 5:\n",
    "                ypos[shark] = ypos[shark] - 1\n",
    "            if heading[shark] == 6:\n",
    "                ypos[shark] = ypos[shark] - 1\n",
    "                xpos[shark] = xpos[shark] -1\n",
    "            if heading[shark] == 7:\n",
    "                xpos[shark] = xpos[shark] - 1\n",
    "            if heading[shark] == 8:\n",
    "                xpos[shark] = xpos[shark]-1\n",
    "                ypos[shark] = ypos[shark]+1\n",
    "        \n",
    "        # FOOD present\n",
    "        if sea[xpos[shark],ypos[shark]] != 0:\n",
    "            sharks_food[shark] + 1 # energy loss\n",
    "            sea[xpos[shark],ypos[shark]]-1 = sea[xpos[shark],ypos[shark]]-1 # food decrease\n",
    "            change_direction = int(numpy.random.normal(0, std*3)) # creates a variable with value -1, 0, or 1\n",
    "            heading[shark] = heading[shark] + change_direction # altering the heading based on the random number\n",
    "            \n",
    "            if heading[shark] == 1: \n",
    "                ypos[shark] = ypos[shark] + 1 # move upwards\n",
    "            if heading[shark] == 2:\n",
    "                xpos[shark] = xpos[shark]+1\n",
    "                ypos[shark] = ypos[shark]+1 # up and right\n",
    "            if heading[shark] == 3:\n",
    "                xpos[shark] = xpos[shark]+1 # right\n",
    "            if heading[shark] == 4:\n",
    "                xpos[shark] = xpos[shark] + 1\n",
    "                ypos[shark] = ypos[shark] -1\n",
    "            if heading[shark] == 5:\n",
    "                ypos[shark] = ypos[shark] - 1\n",
    "            if heading[shark] == 6:\n",
    "                ypos[shark] = ypos[shark] - 1\n",
    "                xpos[shark] = xpos[shark] -1\n",
    "            if heading[shark] == 7:\n",
    "                xpos[shark] = xpos[shark] - 1\n",
    "            if heading[shark] == 8:\n",
    "                xpos[shark] = xpos[shark]-1\n",
    "                ypos[shark] = ypos[shark]+1\n",
    "            \n",
    "        ### this next section of code is 'error checking' I need 'heading' to stay between 1 and 8 (one of the 8 possible directions including diagonal)\n",
    "        # this value between 1 and 8 is vital in the next bit of code - so I make sure it will always be in this range here\n",
    "        if heading[shark] > 8:\n",
    "            heading[shark] = heading[shark] - 8\n",
    "        if heading[shark] < 1:\n",
    "            heading[shark] = heading[shark] + 8\n",
    "\n",
    "            \n",
    "        ##### error checking - make sure it does not exceed the limits of the environment\n",
    "        if xpos[shark] >= (sea_size-1):\n",
    "            xpos[shark] = 1\n",
    "        if xpos[shark] < 1:\n",
    "            xpos[shark] = (sea_size-1)\n",
    "        if ypos[shark] >= (sea_size-1):\n",
    "            ypos[shark] = 1\n",
    "        if ypos[shark] < 1:\n",
    "            ypos[shark] = (sea_size-1)\n",
    "        \n",
    "        plt.scatter(xpos,ypos, marker='x')\n",
    "        #plt.xlim(0,500)\n",
    "        #plt.ylim(0,500)\n",
    "            \n",
    "            \n",
    "        "
   ]
  },
  {
   "cell_type": "code",
   "execution_count": null,
   "metadata": {
    "collapsed": true
   },
   "outputs": [],
   "source": []
  },
  {
   "cell_type": "code",
   "execution_count": null,
   "metadata": {
    "collapsed": true
   },
   "outputs": [],
   "source": []
  }
 ],
 "metadata": {
  "kernelspec": {
   "display_name": "Python 3",
   "language": "python",
   "name": "python3"
  },
  "language_info": {
   "codemirror_mode": {
    "name": "ipython",
    "version": 3
   },
   "file_extension": ".py",
   "mimetype": "text/x-python",
   "name": "python",
   "nbconvert_exporter": "python",
   "pygments_lexer": "ipython3",
   "version": "3.5.1"
  }
 },
 "nbformat": 4,
 "nbformat_minor": 0
}
