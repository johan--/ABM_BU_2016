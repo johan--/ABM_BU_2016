{
 "cells": [
  {
   "cell_type": "markdown",
   "metadata": {},
   "source": [
    "This is my energy balance script"
   ]
  },
  {
   "cell_type": "code",
   "execution_count": 1,
   "metadata": {
    "collapsed": false
   },
   "outputs": [],
   "source": [
    "# number python\n",
    "import numpy \n",
    "\n",
    "# imports plotting library\n",
    "import matplotlib.pyplot as plt \n",
    "\n",
    "# lets you plot in a cell\n",
    "%matplotlib inline "
   ]
  },
  {
   "cell_type": "code",
   "execution_count": 2,
   "metadata": {
    "collapsed": false
   },
   "outputs": [],
   "source": [
    "# initial params\n",
    "temp = [290, 295, 300, 305, 310]\n",
    "refT = 294\n",
    "devT = 5 # days\n",
    "boltz = (8.62 * (10 ** -5)) ## ** power\n",
    "activation_energy = -0.62"
   ]
  },
  {
   "cell_type": "code",
   "execution_count": 3,
   "metadata": {
    "collapsed": false
   },
   "outputs": [],
   "source": [
    "# agents\n",
    "egg = [] # development of egg"
   ]
  },
  {
   "cell_type": "code",
   "execution_count": 11,
   "metadata": {
    "collapsed": true
   },
   "outputs": [],
   "source": [
    "# define a python function for arreneus \n",
    "def arreneus(temperature): # brackets hold values to pass to the function\n",
    "    x = 1/(numpy.exp(((1/refT)-(1/temperature)) * ((activation_energy / boltz)))*devT)\n",
    "    return x # local variable only"
   ]
  },
  {
   "cell_type": "code",
   "execution_count": 12,
   "metadata": {
    "collapsed": false
   },
   "outputs": [
    {
     "name": "stdout",
     "output_type": "stream",
     "text": [
      "290\n",
      "295\n",
      "300\n",
      "305\n",
      "310\n"
     ]
    }
   ],
   "source": [
    "for t in temp: # for loop ie for each temperature in vairable temp\n",
    "    print(t)\n",
    "    egg.append(arreneus(t)) # append result of arreneus(t in temp) to egg "
   ]
  },
  {
   "cell_type": "code",
   "execution_count": 13,
   "metadata": {
    "collapsed": false
   },
   "outputs": [],
   "source": [
    "days = [1]*len(egg) # set count of days for development as 1 for number of eggs\n",
    "\n",
    "for (c,e) in enumerate(egg): # \"enerumate\" this counts how many loops\n",
    "    while e <= 1: # while egg development is less than equal to 1\n",
    "        e = e+e # egg n equals itself + itself\n",
    "        days[c]=days[c]+1 # +1 to no of days"
   ]
  },
  {
   "cell_type": "code",
   "execution_count": 14,
   "metadata": {
    "collapsed": false
   },
   "outputs": [
    {
     "data": {
      "image/png": "[encoded data removed]",
      "text/plain": [
       "<matplotlib.figure.Figure at 0x5d4c650>"
      ]
     },
     "metadata": {},
     "output_type": "display_data"
    }
   ],
   "source": [
    "plt.scatter(temp, days, marker='x')\n",
    "\n",
    "plt.xlabel('daily T in kelvin')\n",
    "plt.ylabel('days to development')\n",
    "plt.title('egg!!!')\n",
    "\n",
    "plt.show()\n",
    "#plt.savefig('path')"
   ]
  },
  {
   "cell_type": "code",
   "execution_count": 15,
   "metadata": {
    "collapsed": true
   },
   "outputs": [],
   "source": [
    "# end"
   ]
  },
  {
   "cell_type": "code",
   "execution_count": null,
   "metadata": {
    "collapsed": true
   },
   "outputs": [],
   "source": []
  }
 ],
 "metadata": {
  "kernelspec": {
   "display_name": "Python 3",
   "language": "python",
   "name": "python3"
  },
  "language_info": {
   "codemirror_mode": {
    "name": "ipython",
    "version": 3
   },
   "file_extension": ".py",
   "mimetype": "text/x-python",
   "name": "python",
   "nbconvert_exporter": "python",
   "pygments_lexer": "ipython3",
   "version": "3.5.1"
  }
 },
 "nbformat": 4,
 "nbformat_minor": 0
}
